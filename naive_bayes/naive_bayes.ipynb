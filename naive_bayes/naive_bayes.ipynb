{
 "cells": [
  {
   "cell_type": "code",
   "execution_count": 57,
   "metadata": {},
   "outputs": [],
   "source": [
    "# Get Data\n",
    "\n",
    "import requests\n",
    "from bs4 import BeautifulSoup\n",
    "\n",
    "headers = {\n",
    "        'Accept': 'text/html,application/xhtml+xml,application/xml;q=0.9,image/webp,*/*;q=0.8',\n",
    "        'Accept-Encoding': 'gzip, deflate',\n",
    "        'Accept-Language': 'en-US,en;q=0.5',\n",
    "        'Cache-Control': 'max-age=0',\n",
    "        'Connection': 'keep-alive',\n",
    "        'Cookie': '__cfduid=d0b045798ce7787756702d2e2d0c999bc1608728250; _ga=GA1.2.777234261.1608729775; _gid=GA1.2.1793921661.1608729775; _gat=1',\n",
    "        'Host': 'mstajbakhsh.ir',\n",
    "        'Upgrade-Insecure-Requests': '1',\n",
    "        'User-Agent': 'Mozilla/5.0 (X11; Ubuntu; Linux x86_64; rv:84.0) Gecko/20100101 Firefox/84.0',\n",
    "    }\n",
    "\n",
    "all_data = []\n",
    "all_data_categories = []\n",
    "\n",
    "def get_categories(soup):\n",
    "    categories = []\n",
    "    ul = soup.find('ul', {'class': 'post-category'})\n",
    "    lis = ul.findAll('li')\n",
    "    for li in lis:\n",
    "        categories.append(li.text)\n",
    "\n",
    "    return categories\n",
    "\n",
    "def get_body(soup):\n",
    "    return soup.find('div', {'class': 'post-body'})\n",
    "\n",
    "def get_paragraphs(soup):\n",
    "    result = ''\n",
    "    body = get_body(soup)\n",
    "    paragraphs = body.findAll('p')\n",
    "    for paragraph in paragraphs:\n",
    "        result = result + ' ' + paragraph.text\n",
    "    \n",
    "    return result\n",
    "\n",
    "def add_to_dataset(categories, paragraphs):\n",
    "    for category in categories:\n",
    "        all_data.append(paragraphs)\n",
    "        all_data_categories.append(category)\n",
    "        break\n",
    "\n",
    "def parse_post_page(post_page):\n",
    "    soup = BeautifulSoup(post_page, 'html.parser')\n",
    "    categories = get_categories(soup)\n",
    "    paragraphs = get_paragraphs(soup)\n",
    "    add_to_dataset(categories, paragraphs)\n",
    "\n",
    "def get_post_page(link):\n",
    "    post_page = requests.get(link,\n",
    "                        headers=headers)\n",
    "    parse_post_page(post_page.text)\n",
    "    \n",
    "def parse_main_page(main_page):\n",
    "    soup = BeautifulSoup(main_page, 'html.parser')\n",
    "    articles = soup.findAll('article')\n",
    "\n",
    "    for article in articles:\n",
    "        post_title = article.find('h3', {'class': 'post-title'})\n",
    "        link = post_title.find('a').get('href')\n",
    "        get_post_page(link)\n",
    "\n",
    "def request_main_page():\n",
    "    main_page = requests.get('https://mstajbakhsh.ir/',\n",
    "                        headers=headers)\n",
    "\n",
    "    parse_main_page(main_page.text)\n",
    "\n",
    "def request_other_pages():\n",
    "    for i in range(2, 7):\n",
    "        page = requests.get('https://mstajbakhsh.ir/page/' + str(i),\n",
    "                            headers=headers)\n",
    "\n",
    "        parse_main_page(page.text)\n",
    "\n",
    "if __name__ == \"__main__\":\n",
    "    request_main_page()\n",
    "    request_other_pages()\n"
   ]
  },
  {
   "cell_type": "code",
   "execution_count": 9,
   "metadata": {},
   "outputs": [],
   "source": [
    "# Import libs\n",
    "\n",
    "import numpy as np, pandas as pd\n",
    "import seaborn as sns\n",
    "import matplotlib.pyplot as plt\n",
    "from sklearn.datasets import fetch_20newsgroups\n",
    "from sklearn.feature_extraction.text import TfidfVectorizer\n",
    "from sklearn.naive_bayes import MultinomialNB\n",
    "from sklearn.pipeline import make_pipeline\n",
    "from sklearn.metrics import confusion_matrix, accuracy_score\n",
    "sns.set() # use seaborn plotting style"
   ]
  },
  {
   "cell_type": "code",
   "execution_count": 18,
   "metadata": {},
   "outputs": [],
   "source": [
    "# 1"
   ]
  },
  {
   "cell_type": "code",
   "execution_count": 53,
   "metadata": {},
   "outputs": [],
   "source": [
    "# Load Data\n",
    "import pickle\n",
    "def load_data(name):\n",
    "    with open(name, 'rb') as f:\n",
    "        return pickle.load(f)\n",
    "    \n",
    "all_data = load_data('data/data.pkl')\n",
    "all_data_categories = load_data('data/categories.pkl')"
   ]
  },
  {
   "cell_type": "code",
   "execution_count": 54,
   "metadata": {},
   "outputs": [
    {
     "data": {
      "text/plain": [
       "55"
      ]
     },
     "execution_count": 54,
     "metadata": {},
     "output_type": "execute_result"
    }
   ],
   "source": [
    "len(all_data_categories)"
   ]
  },
  {
   "cell_type": "code",
   "execution_count": 55,
   "metadata": {},
   "outputs": [],
   "source": [
    "train_data = all_data\n",
    "train_label = all_data_categories\n",
    "test_data = all_data[:10]\n",
    "test_label = all_data_categories[:10]"
   ]
  },
  {
   "cell_type": "code",
   "execution_count": 56,
   "metadata": {},
   "outputs": [],
   "source": [
    "# Build the model\n",
    "model = make_pipeline(TfidfVectorizer(), MultinomialNB())\n",
    "# Train the model using the training data\n",
    "model.fit(train_data, train_label)\n",
    "# Predict the categories of the test data\n",
    "predicted_categories = model.predict(test_data)"
   ]
  },
  {
   "cell_type": "code",
   "execution_count": 57,
   "metadata": {},
   "outputs": [
    {
     "data": {
      "text/plain": [
       "array(['AndroJava', 'AndroJava', 'Anonymity Networks',\n",
       "       'Anonymity Networks', 'Anonymity Networks', 'AndroJava',\n",
       "       'Anonymity Networks', 'AndroJava', 'Anonymity Networks',\n",
       "       'Anonymity Networks'], dtype='<U18')"
      ]
     },
     "execution_count": 57,
     "metadata": {},
     "output_type": "execute_result"
    }
   ],
   "source": [
    "predicted_categories"
   ]
  },
  {
   "cell_type": "code",
   "execution_count": 58,
   "metadata": {},
   "outputs": [
    {
     "data": {
      "text/plain": [
       "['AndroJava',\n",
       " 'AndroJava',\n",
       " 'Anonymity Networks',\n",
       " 'Anonymity Networks',\n",
       " 'Anonymity Networks',\n",
       " 'AndroJava',\n",
       " 'IoT',\n",
       " 'AndroJava',\n",
       " 'Anonymity Networks',\n",
       " 'Anonymity Networks']"
      ]
     },
     "execution_count": 58,
     "metadata": {},
     "output_type": "execute_result"
    }
   ],
   "source": [
    "test_label"
   ]
  },
  {
   "cell_type": "code",
   "execution_count": 62,
   "metadata": {},
   "outputs": [
    {
     "data": {
      "text/plain": [
       "[array([ True,  True,  True,  True,  True,  True, False,  True,  True,\n",
       "         True])]"
      ]
     },
     "execution_count": 62,
     "metadata": {},
     "output_type": "execute_result"
    }
   ],
   "source": [
    "[predicted_categories == test_label]"
   ]
  },
  {
   "cell_type": "code",
   "execution_count": 64,
   "metadata": {},
   "outputs": [
    {
     "data": {
      "text/plain": [
       "'Anonymity Networks'"
      ]
     },
     "execution_count": 64,
     "metadata": {},
     "output_type": "execute_result"
    }
   ],
   "source": [
    "predicted_categories[6]"
   ]
  },
  {
   "cell_type": "code",
   "execution_count": 65,
   "metadata": {},
   "outputs": [
    {
     "data": {
      "text/plain": [
       "'IoT'"
      ]
     },
     "execution_count": 65,
     "metadata": {},
     "output_type": "execute_result"
    }
   ],
   "source": [
    "test_label[6]"
   ]
  },
  {
   "cell_type": "code",
   "execution_count": 66,
   "metadata": {},
   "outputs": [
    {
     "data": {
      "text/plain": [
       "' I’ve previously installed a Home Assistant (HA) in my home and attached temperature and humidity sensor to it. I’ve tweeted about  Home Assistant times ago. Now I had added it more features. With the growth of sensors and smart elements at home, I’ve customized the HA interface and split the sensors in the following categories: There are two weather sources in my current smart home. One source is from DarkSky sensor, the other is the old temperature and humidity sensor which shows the weather conditions inside home! I’ve added CCTV cams and attached them to HA. Finding the preview links was a bit annoying, but finally added. These devices was in my previous configuration but a Chrome Cast and a Samsung TV is added to this section. I’ve used instructions for Home Assistant feed parser, but there was needed for some improvement (support for RTL languages or display improvements) which I had changed. The RSS feed of news are added to the HA. Currently I’m working on adding images to the RSS feeds in my free time. I like to create a smart mirror and attach it to the HA and attach more sensors! Let’s hope it all goes well! Here I’ve uploaded a video captured from HA to YouTube:'"
      ]
     },
     "execution_count": 66,
     "metadata": {},
     "output_type": "execute_result"
    }
   ],
   "source": [
    "test_data[6]"
   ]
  },
  {
   "cell_type": "code",
   "execution_count": 24,
   "metadata": {},
   "outputs": [
    {
     "data": {
      "text/plain": [
       "90.0"
      ]
     },
     "execution_count": 24,
     "metadata": {},
     "output_type": "execute_result"
    }
   ],
   "source": [
    "( sum(predicted_categories == test_label) / len(predicted_categories) ) * 100"
   ]
  },
  {
   "cell_type": "code",
   "execution_count": 25,
   "metadata": {},
   "outputs": [],
   "source": [
    "# 2"
   ]
  },
  {
   "cell_type": "code",
   "execution_count": 67,
   "metadata": {},
   "outputs": [],
   "source": [
    "train_data = all_data[6:]\n",
    "train_label = all_data_categories[6:]\n",
    "test_data = all_data[:6]\n",
    "test_label = all_data_categories[:6]"
   ]
  },
  {
   "cell_type": "code",
   "execution_count": 68,
   "metadata": {},
   "outputs": [],
   "source": [
    "# Build the model\n",
    "model = make_pipeline(TfidfVectorizer(), MultinomialNB())\n",
    "# Train the model using the training data\n",
    "model.fit(train_data, train_label)\n",
    "# Predict the categories of the test data\n",
    "predicted_categories = model.predict(test_data)"
   ]
  },
  {
   "cell_type": "code",
   "execution_count": 69,
   "metadata": {},
   "outputs": [
    {
     "data": {
      "text/plain": [
       "array([False, False, False, False,  True, False])"
      ]
     },
     "execution_count": 69,
     "metadata": {},
     "output_type": "execute_result"
    }
   ],
   "source": [
    "predicted_categories == test_label"
   ]
  },
  {
   "cell_type": "code",
   "execution_count": 34,
   "metadata": {},
   "outputs": [
    {
     "data": {
      "text/plain": [
       "16.666666666666664"
      ]
     },
     "execution_count": 34,
     "metadata": {},
     "output_type": "execute_result"
    }
   ],
   "source": [
    "( sum(predicted_categories == test_label) / len(predicted_categories) ) * 100"
   ]
  },
  {
   "cell_type": "code",
   "execution_count": 70,
   "metadata": {},
   "outputs": [
    {
     "data": {
      "text/plain": [
       "' Previously, I’ve described how to run hidden mail service over TOR and how to connect to it using ThunderBird. In this post, I’ve create a video demo of what I’ve told in the posts. The scenario is made up of a mail server (hMailServer) which is located behind a TOR hidden service and do not access to Internet. By means of do not access to Internet, I mean that hMailServer’s access to the Internet is blocked by firewall which it cannot send emails to other servers. It is used to ensure local delivery of emails. Additionally there are two users: alice and bob over the fake domain of hidden.one which communicate with each other over the hidden mail server.  You can find the video on my Youtube channel. Mr Tajbakhsh Youtube channel '"
      ]
     },
     "execution_count": 70,
     "metadata": {},
     "output_type": "execute_result"
    }
   ],
   "source": [
    "test_data[4]"
   ]
  },
  {
   "cell_type": "code",
   "execution_count": 71,
   "metadata": {},
   "outputs": [],
   "source": [
    "# 3"
   ]
  },
  {
   "cell_type": "code",
   "execution_count": 72,
   "metadata": {},
   "outputs": [],
   "source": [
    "# Load Data\n",
    "import pickle\n",
    "def load_data(name):\n",
    "    with open(name, 'rb') as f:\n",
    "        return pickle.load(f)\n",
    "    \n",
    "all_data = load_data('data/data_multi_label.pkl')\n",
    "all_data_categories = load_data('data/categories_multi_label.pkl')"
   ]
  },
  {
   "cell_type": "code",
   "execution_count": 76,
   "metadata": {},
   "outputs": [
    {
     "data": {
      "text/plain": [
       "132"
      ]
     },
     "execution_count": 76,
     "metadata": {},
     "output_type": "execute_result"
    }
   ],
   "source": [
    "len(all_data_categories)"
   ]
  },
  {
   "cell_type": "code",
   "execution_count": 73,
   "metadata": {},
   "outputs": [],
   "source": [
    "train_data = all_data\n",
    "train_label = all_data_categories\n",
    "test_data = all_data[:10]\n",
    "test_label = all_data_categories[:10]"
   ]
  },
  {
   "cell_type": "code",
   "execution_count": 74,
   "metadata": {},
   "outputs": [],
   "source": [
    "# Build the model\n",
    "model = make_pipeline(TfidfVectorizer(), MultinomialNB())\n",
    "# Train the model using the training data\n",
    "model.fit(train_data, train_label)\n",
    "# Predict the categories of the test data\n",
    "predicted_categories = model.predict(test_data)"
   ]
  },
  {
   "cell_type": "code",
   "execution_count": 78,
   "metadata": {},
   "outputs": [
    {
     "data": {
      "text/plain": [
       "array([ True,  True, False,  True, False, False,  True, False,  True,\n",
       "       False])"
      ]
     },
     "execution_count": 78,
     "metadata": {},
     "output_type": "execute_result"
    }
   ],
   "source": [
    "predicted_categories == test_label"
   ]
  },
  {
   "cell_type": "code",
   "execution_count": 87,
   "metadata": {},
   "outputs": [
    {
     "data": {
      "text/plain": [
       "' Previously, I’ve described how to run hidden mail service over TOR and how to connect to it using ThunderBird. In this post, I’ve create a video demo of what I’ve told in the posts. The scenario is made up of a mail server (hMailServer) which is located behind a TOR hidden service and do not access to Internet. By means of do not access to Internet, I mean that hMailServer’s access to the Internet is blocked by firewall which it cannot send emails to other servers. It is used to ensure local delivery of emails. Additionally there are two users: alice and bob over the fake domain of hidden.one which communicate with each other over the hidden mail server.  You can find the video on my Youtube channel. Mr Tajbakhsh Youtube channel '"
      ]
     },
     "execution_count": 87,
     "metadata": {},
     "output_type": "execute_result"
    }
   ],
   "source": [
    "test_data[7]"
   ]
  },
  {
   "cell_type": "code",
   "execution_count": 92,
   "metadata": {},
   "outputs": [
    {
     "data": {
      "text/plain": [
       "'AndroJava'"
      ]
     },
     "execution_count": 92,
     "metadata": {},
     "output_type": "execute_result"
    }
   ],
   "source": [
    "test_label[9]"
   ]
  },
  {
   "cell_type": "code",
   "execution_count": 93,
   "metadata": {},
   "outputs": [
    {
     "data": {
      "text/plain": [
       "'Tutorial'"
      ]
     },
     "execution_count": 93,
     "metadata": {},
     "output_type": "execute_result"
    }
   ],
   "source": [
    "predicted_categories[9]"
   ]
  },
  {
   "cell_type": "code",
   "execution_count": 75,
   "metadata": {},
   "outputs": [
    {
     "data": {
      "text/plain": [
       "50.0"
      ]
     },
     "execution_count": 75,
     "metadata": {},
     "output_type": "execute_result"
    }
   ],
   "source": [
    "( sum(predicted_categories == test_label) / len(predicted_categories) ) * 100"
   ]
  },
  {
   "cell_type": "code",
   "execution_count": 40,
   "metadata": {},
   "outputs": [],
   "source": [
    "# 4"
   ]
  },
  {
   "cell_type": "code",
   "execution_count": 105,
   "metadata": {},
   "outputs": [],
   "source": [
    "train_data = all_data[6:]\n",
    "train_label = all_data_categories[6:]\n",
    "test_data = all_data[:6]\n",
    "test_label = all_data_categories[:6]"
   ]
  },
  {
   "cell_type": "code",
   "execution_count": 106,
   "metadata": {},
   "outputs": [],
   "source": [
    "# Build the model\n",
    "model = make_pipeline(TfidfVectorizer(), MultinomialNB())\n",
    "# Train the model using the training data\n",
    "model.fit(train_data, train_label)\n",
    "# Predict the categories of the test data\n",
    "predicted_categories = model.predict(test_data)"
   ]
  },
  {
   "cell_type": "code",
   "execution_count": 107,
   "metadata": {},
   "outputs": [
    {
     "data": {
      "text/plain": [
       "0.0"
      ]
     },
     "execution_count": 107,
     "metadata": {},
     "output_type": "execute_result"
    }
   ],
   "source": [
    "( sum(predicted_categories == test_label) / len(predicted_categories) ) * 100"
   ]
  },
  {
   "cell_type": "code",
   "execution_count": 108,
   "metadata": {},
   "outputs": [
    {
     "data": {
      "text/plain": [
       "['AndroJava',\n",
       " 'AndroJava',\n",
       " 'Anonymity Networks',\n",
       " 'Anonymity Networks',\n",
       " 'Anonymity Networks',\n",
       " 'Cryptography']"
      ]
     },
     "execution_count": 108,
     "metadata": {},
     "output_type": "execute_result"
    }
   ],
   "source": [
    "test_label"
   ]
  },
  {
   "cell_type": "code",
   "execution_count": 109,
   "metadata": {},
   "outputs": [
    {
     "data": {
      "text/plain": [
       "array(['Tutorial', 'Tutorial', 'Tutorial', 'Tutorial', 'Tutorial',\n",
       "       'Tutorial'], dtype='<U18')"
      ]
     },
     "execution_count": 109,
     "metadata": {},
     "output_type": "execute_result"
    }
   ],
   "source": [
    "predicted_categories"
   ]
  },
  {
   "cell_type": "code",
   "execution_count": 114,
   "metadata": {},
   "outputs": [
    {
     "name": "stdout",
     "output_type": "stream",
     "text": [
      "18\n"
     ]
    }
   ],
   "source": [
    "counter = 0\n",
    "for category in all_data_categories:\n",
    "    if category == 'Tutorial':\n",
    "        counter += 1\n",
    "        \n",
    "print(counter)"
   ]
  },
  {
   "cell_type": "code",
   "execution_count": 115,
   "metadata": {},
   "outputs": [
    {
     "data": {
      "text/plain": [
       "Counter({'AndroJava': 15,\n",
       "         'Anonymity Networks': 14,\n",
       "         'Cryptography': 7,\n",
       "         'Tutorial': 18,\n",
       "         'Media': 7,\n",
       "         'IoT': 3,\n",
       "         'Personal': 19,\n",
       "         'Programming': 9,\n",
       "         'RAT': 1,\n",
       "         'WriteUp': 6,\n",
       "         'Conference': 3,\n",
       "         'Urmia': 3,\n",
       "         'Server': 1,\n",
       "         'University': 7,\n",
       "         'Search Engine': 3,\n",
       "         'Cryptocurrency': 1,\n",
       "         'Academic': 13,\n",
       "         'RaspberryPi': 1,\n",
       "         'Library': 1})"
      ]
     },
     "execution_count": 115,
     "metadata": {},
     "output_type": "execute_result"
    }
   ],
   "source": [
    "from collections import Counter\n",
    "\n",
    "Counter(all_data_categories)"
   ]
  },
  {
   "cell_type": "code",
   "execution_count": 44,
   "metadata": {},
   "outputs": [],
   "source": [
    "# # #"
   ]
  },
  {
   "cell_type": "code",
   "execution_count": null,
   "metadata": {},
   "outputs": [],
   "source": []
  }
 ],
 "metadata": {
  "kernelspec": {
   "display_name": "Python 3",
   "language": "python",
   "name": "python3"
  },
  "language_info": {
   "codemirror_mode": {
    "name": "ipython",
    "version": 3
   },
   "file_extension": ".py",
   "mimetype": "text/x-python",
   "name": "python",
   "nbconvert_exporter": "python",
   "pygments_lexer": "ipython3",
   "version": "3.8.5"
  }
 },
 "nbformat": 4,
 "nbformat_minor": 4
}
