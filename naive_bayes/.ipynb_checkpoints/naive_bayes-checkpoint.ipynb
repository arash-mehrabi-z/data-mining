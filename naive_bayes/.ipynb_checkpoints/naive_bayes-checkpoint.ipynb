{
 "cells": [
  {
   "cell_type": "code",
   "execution_count": 57,
   "metadata": {},
   "outputs": [],
   "source": [
    "# Get Data\n",
    "\n",
    "import requests\n",
    "from bs4 import BeautifulSoup\n",
    "\n",
    "headers = {\n",
    "        'Accept': 'text/html,application/xhtml+xml,application/xml;q=0.9,image/webp,*/*;q=0.8',\n",
    "        'Accept-Encoding': 'gzip, deflate',\n",
    "        'Accept-Language': 'en-US,en;q=0.5',\n",
    "        'Cache-Control': 'max-age=0',\n",
    "        'Connection': 'keep-alive',\n",
    "        'Cookie': '__cfduid=d0b045798ce7787756702d2e2d0c999bc1608728250; _ga=GA1.2.777234261.1608729775; _gid=GA1.2.1793921661.1608729775; _gat=1',\n",
    "        'Host': 'mstajbakhsh.ir',\n",
    "        'Upgrade-Insecure-Requests': '1',\n",
    "        'User-Agent': 'Mozilla/5.0 (X11; Ubuntu; Linux x86_64; rv:84.0) Gecko/20100101 Firefox/84.0',\n",
    "    }\n",
    "\n",
    "all_data = []\n",
    "all_data_categories = []\n",
    "\n",
    "def get_categories(soup):\n",
    "    categories = []\n",
    "    ul = soup.find('ul', {'class': 'post-category'})\n",
    "    lis = ul.findAll('li')\n",
    "    for li in lis:\n",
    "        categories.append(li.text)\n",
    "\n",
    "    return categories\n",
    "\n",
    "def get_body(soup):\n",
    "    return soup.find('div', {'class': 'post-body'})\n",
    "\n",
    "def get_paragraphs(soup):\n",
    "    result = ''\n",
    "    body = get_body(soup)\n",
    "    paragraphs = body.findAll('p')\n",
    "    for paragraph in paragraphs:\n",
    "        result = result + ' ' + paragraph.text\n",
    "    \n",
    "    return result\n",
    "\n",
    "def add_to_dataset(categories, paragraphs):\n",
    "    for category in categories:\n",
    "        all_data.append(paragraphs)\n",
    "        all_data_categories.append(category)\n",
    "        break\n",
    "\n",
    "def parse_post_page(post_page):\n",
    "    soup = BeautifulSoup(post_page, 'html.parser')\n",
    "    categories = get_categories(soup)\n",
    "    paragraphs = get_paragraphs(soup)\n",
    "    add_to_dataset(categories, paragraphs)\n",
    "\n",
    "def get_post_page(link):\n",
    "    post_page = requests.get(link,\n",
    "                        headers=headers)\n",
    "    parse_post_page(post_page.text)\n",
    "    \n",
    "def parse_main_page(main_page):\n",
    "    soup = BeautifulSoup(main_page, 'html.parser')\n",
    "    articles = soup.findAll('article')\n",
    "\n",
    "    for article in articles:\n",
    "        post_title = article.find('h3', {'class': 'post-title'})\n",
    "        link = post_title.find('a').get('href')\n",
    "        get_post_page(link)\n",
    "\n",
    "def request_main_page():\n",
    "    main_page = requests.get('https://mstajbakhsh.ir/',\n",
    "                        headers=headers)\n",
    "\n",
    "    parse_main_page(main_page.text)\n",
    "\n",
    "def request_other_pages():\n",
    "    for i in range(2, 7):\n",
    "        page = requests.get('https://mstajbakhsh.ir/page/' + str(i),\n",
    "                            headers=headers)\n",
    "\n",
    "        parse_main_page(page.text)\n",
    "\n",
    "if __name__ == \"__main__\":\n",
    "    request_main_page()\n",
    "    request_other_pages()\n"
   ]
  },
  {
   "cell_type": "code",
   "execution_count": 9,
   "metadata": {},
   "outputs": [],
   "source": [
    "# Import libs\n",
    "\n",
    "import numpy as np, pandas as pd\n",
    "import seaborn as sns\n",
    "import matplotlib.pyplot as plt\n",
    "from sklearn.datasets import fetch_20newsgroups\n",
    "from sklearn.feature_extraction.text import TfidfVectorizer\n",
    "from sklearn.naive_bayes import MultinomialNB\n",
    "from sklearn.pipeline import make_pipeline\n",
    "from sklearn.metrics import confusion_matrix, accuracy_score\n",
    "sns.set() # use seaborn plotting style"
   ]
  },
  {
   "cell_type": "code",
   "execution_count": 10,
   "metadata": {},
   "outputs": [],
   "source": [
    "# 1"
   ]
  },
  {
   "cell_type": "code",
   "execution_count": 11,
   "metadata": {},
   "outputs": [],
   "source": [
    "# Load Data\n",
    "import pickle\n",
    "def load_data(name):\n",
    "    with open(name, 'rb') as f:\n",
    "        return pickle.load(f)\n",
    "    \n",
    "all_data = load_data('data/data.pkl')\n",
    "all_data_categories = load_data('data/categories.pkl')"
   ]
  },
  {
   "cell_type": "code",
   "execution_count": 12,
   "metadata": {},
   "outputs": [],
   "source": [
    "train_data = all_data\n",
    "train_label = all_data_categories\n",
    "test_data = all_data[:10]\n",
    "test_label = all_data_categories[:10]"
   ]
  },
  {
   "cell_type": "code",
   "execution_count": 14,
   "metadata": {},
   "outputs": [],
   "source": [
    "# Build the model\n",
    "model = make_pipeline(TfidfVectorizer(), MultinomialNB())\n",
    "# Train the model using the training data\n",
    "model.fit(train_data, train_label)\n",
    "# Predict the categories of the test data\n",
    "predicted_categories = model.predict(test_data)"
   ]
  },
  {
   "cell_type": "code",
   "execution_count": 15,
   "metadata": {},
   "outputs": [
    {
     "data": {
      "text/plain": [
       "array(['AndroJava', 'AndroJava', 'Anonymity Networks',\n",
       "       'Anonymity Networks', 'Anonymity Networks', 'AndroJava',\n",
       "       'Anonymity Networks', 'AndroJava', 'Anonymity Networks',\n",
       "       'Anonymity Networks'], dtype='<U18')"
      ]
     },
     "execution_count": 15,
     "metadata": {},
     "output_type": "execute_result"
    }
   ],
   "source": [
    "predicted_categories"
   ]
  },
  {
   "cell_type": "code",
   "execution_count": 16,
   "metadata": {},
   "outputs": [
    {
     "data": {
      "text/plain": [
       "['AndroJava',\n",
       " 'AndroJava',\n",
       " 'Anonymity Networks',\n",
       " 'Anonymity Networks',\n",
       " 'Anonymity Networks',\n",
       " 'AndroJava',\n",
       " 'IoT',\n",
       " 'AndroJava',\n",
       " 'Anonymity Networks',\n",
       " 'Anonymity Networks']"
      ]
     },
     "execution_count": 16,
     "metadata": {},
     "output_type": "execute_result"
    }
   ],
   "source": [
    "test_label"
   ]
  },
  {
   "cell_type": "code",
   "execution_count": 17,
   "metadata": {},
   "outputs": [
    {
     "data": {
      "text/plain": [
       "90.0"
      ]
     },
     "execution_count": 17,
     "metadata": {},
     "output_type": "execute_result"
    }
   ],
   "source": [
    "( sum(predicted_categories == test_label) / len(predicted_categories) ) * 100"
   ]
  },
  {
   "cell_type": "code",
   "execution_count": null,
   "metadata": {},
   "outputs": [],
   "source": [
    "# 2"
   ]
  },
  {
   "cell_type": "code",
   "execution_count": null,
   "metadata": {},
   "outputs": [],
   "source": [
    "train_data = all_data[10:]\n",
    "train_label = all_data_categories[10:]\n",
    "test_data = all_data[:10]\n",
    "test_label = all_data_categories[:10]"
   ]
  }
 ],
 "metadata": {
  "kernelspec": {
   "display_name": "Python 3",
   "language": "python",
   "name": "python3"
  },
  "language_info": {
   "codemirror_mode": {
    "name": "ipython",
    "version": 3
   },
   "file_extension": ".py",
   "mimetype": "text/x-python",
   "name": "python",
   "nbconvert_exporter": "python",
   "pygments_lexer": "ipython3",
   "version": "3.8.5"
  }
 },
 "nbformat": 4,
 "nbformat_minor": 4
}
